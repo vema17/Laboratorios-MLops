{
 "cells": [
  {
   "cell_type": "markdown",
   "id": "b511721f-0e03-4dfb-ade3-ff5c8d914280",
   "metadata": {},
   "source": [
    "# Pasos del taller de jenkins\n",
    "## Estudiante: Vicente Muñoz Altamirano\n",
    "## Profesor: Humberto Farias Aroca\n",
    "## Fecha del taller: 6 de Junio de 2024\n",
    "### Pasos:\n",
    "#### 1. Crear un repositorio vacio de manera local utilizando la aplicacion \"GitHub Desktop\".\n",
    "#### 2. Crear un token para la cuenta de GitHub.\n",
    "#### 3. Realizar los siguientes comandos:\n",
    "```bash\n",
    "git config --global user.name \"Nombredeusuario\"\n",
    "git config --global user.email \"Correoelectronico\"\n",
    "cd path/to/your/project\n",
    "git init\n",
    "git add .\n",
    "git commit -m \"Initial commit\"\n",
    "git remote add origin https://<tu-token>@github.com/tu-usuario/tu-repositorio.git\n",
    "git push -u origin main\n",
    "```\n",
    "#### 4. Agregar los archivos .py con el contenido entregado por el profesor, ademas del archivo Jenkinsfile que se entrega junto con este documento.\n",
    "#### 5. Para instalar Jenkins, ejecutar el siguiente comando en cmd:\n",
    "```bash\n",
    "docker run -p 8080:8080 -p 50000:50000 jenkins/jenkins:lts\n",
    "```\n",
    "#### 6. Instalar las bibliotecas necesarias en Jenkins utilizando la consola de Docker Desktop, para ello utilizar los siguientes comandos:\n",
    "```bash\n",
    "apt-get update\n",
    "apt-get install python3\n",
    "apt-get install python3-pip\n",
    "```\n",
    "#### 7. Realizar las siguientes tareas en Jenkins:\n",
    "```bash\n",
    "1. Crear un usuario inicial.\n",
    "2. Instalar los plugins necesarios.\n",
    "3. Crear un nuevo Pipeline.\n",
    "4. Configurar el Pipeline en \"SCM\", \"Git\" con https://<tu-token>@github.com/tu-usuario/tu-repositorio.git\n",
    "5. Configurar el Pipeline en \"Script Path\" en donde se ingreso \"Jenkinsfile\"\n",
    "6. Configurar el Pipeline en \"Branches to build\" en donde se coloco \"*/main\"\n",
    "```\n",
    "#### 8. Probar el Pipeline "
   ]
  },
  {
   "cell_type": "code",
   "execution_count": null,
   "id": "86ec68a7-7269-4dd5-a18f-679fccaa7f93",
   "metadata": {},
   "outputs": [],
   "source": []
  }
 ],
 "metadata": {
  "kernelspec": {
   "display_name": "Python 3 (ipykernel)",
   "language": "python",
   "name": "python3"
  },
  "language_info": {
   "codemirror_mode": {
    "name": "ipython",
    "version": 3
   },
   "file_extension": ".py",
   "mimetype": "text/x-python",
   "name": "python",
   "nbconvert_exporter": "python",
   "pygments_lexer": "ipython3",
   "version": "3.11.4"
  }
 },
 "nbformat": 4,
 "nbformat_minor": 5
}

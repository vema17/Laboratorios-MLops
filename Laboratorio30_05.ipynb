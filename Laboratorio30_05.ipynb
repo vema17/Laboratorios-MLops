{
 "cells": [
  {
   "cell_type": "markdown",
   "id": "afcad3e3-516c-444d-9c34-c4d21d2fe488",
   "metadata": {},
   "source": [
    "# Laboratorio 30/05: Tarea de Metricas\n",
    "## Vicente Muñoz Altamirano"
   ]
  },
  {
   "cell_type": "markdown",
   "id": "e4cba9a5-11f7-4313-a28c-a9fc3010712c",
   "metadata": {
    "tags": []
   },
   "source": [
    "## Dataset escogido: Wines. Es extraido de scikit-learn.org usando su libreria de datasets"
   ]
  },
  {
   "cell_type": "code",
   "execution_count": 1,
   "id": "4f7ee8e1-4e69-4b62-8877-e0331c646d33",
   "metadata": {
    "tags": []
   },
   "outputs": [],
   "source": [
    "# Importación de librerías necesarias\n",
    "import numpy as np\n",
    "import pandas as pd\n",
    "from sklearn.model_selection import train_test_split\n",
    "from sklearn.linear_model import LogisticRegression\n",
    "from sklearn.svm import SVC\n",
    "from sklearn.ensemble import RandomForestClassifier\n",
    "from sklearn.metrics import confusion_matrix, ConfusionMatrixDisplay\n",
    "from sklearn.metrics import accuracy_score, recall_score, precision_score, f1_score, roc_auc_score, confusion_matrix, ConfusionMatrixDisplay\n",
    "\n",
    "import matplotlib.pyplot as plt\n",
    "import seaborn as sns\n",
    "from sklearn.datasets import load_wine"
   ]
  },
  {
   "cell_type": "code",
   "execution_count": 2,
   "id": "5714ad4e-1fb8-4dc4-a44a-e67188f7f891",
   "metadata": {
    "tags": []
   },
   "outputs": [],
   "source": [
    "# Cargar un conjunto de datos de ejemplo\n",
    "data = load_wine()\n",
    "X = data.data\n",
    "y = data.target\n",
    "\n",
    "# Dividir los datos en entrenamiento y prueba\n",
    "X_train, X_test, y_train, y_test = train_test_split(X, y, test_size=0.2, random_state=42)"
   ]
  },
  {
   "cell_type": "markdown",
   "id": "1417f26f-e757-458d-bb6d-3e5af5b12bb2",
   "metadata": {},
   "source": [
    "## Métricas de Evaluación de Modelos"
   ]
  },
  {
   "cell_type": "code",
   "execution_count": 3,
   "id": "61538fcd-1d17-470c-b76f-8dde41701816",
   "metadata": {
    "tags": []
   },
   "outputs": [
    {
     "name": "stdout",
     "output_type": "stream",
     "text": [
      "Recall (micro): 1.00\n",
      "Precision (micro): 1.00\n",
      "F1 Score (micro): 1.00\n",
      "Recall (macro): 1.00\n",
      "Precision (macro): 1.00\n",
      "F1 Score (macro): 1.00\n",
      "Recall (weighted): 1.00\n",
      "Precision (weighted): 1.00\n",
      "F1 Score (weighted): 1.00\n"
     ]
    }
   ],
   "source": [
    "model = RandomForestClassifier(n_estimators=100, random_state=42)\n",
    "model.fit(X_train, y_train)\n",
    "y_pred = model.predict(X_test)\n",
    "\n",
    "# Calcular métricas\n",
    "\n",
    "recall = recall_score(y_test, y_pred, average='micro')\n",
    "precision = precision_score(y_test, y_pred, average='micro')\n",
    "f1 = f1_score(y_test, y_pred, average='micro')\n",
    "\n",
    "print(f\"Recall (micro): {recall:.2f}\")\n",
    "print(f\"Precision (micro): {precision:.2f}\")\n",
    "print(f\"F1 Score (micro): {f1:.2f}\")\n",
    "\n",
    "recall = recall_score(y_test, y_pred, average='macro')\n",
    "precision = precision_score(y_test, y_pred, average='macro')\n",
    "f1 = f1_score(y_test, y_pred, average='macro')\n",
    "\n",
    "print(f\"Recall (macro): {recall:.2f}\")\n",
    "print(f\"Precision (macro): {precision:.2f}\")\n",
    "print(f\"F1 Score (macro): {f1:.2f}\")\n",
    "\n",
    "recall = recall_score(y_test, y_pred, average='weighted')\n",
    "precision = precision_score(y_test, y_pred, average='weighted')\n",
    "f1 = f1_score(y_test, y_pred, average='weighted')\n",
    "\n",
    "print(f\"Recall (weighted): {recall:.2f}\")\n",
    "print(f\"Precision (weighted): {precision:.2f}\")\n",
    "print(f\"F1 Score (weighted): {f1:.2f}\")"
   ]
  },
  {
   "cell_type": "markdown",
   "id": "e0543e23-9721-4128-be8c-b1c73593e461",
   "metadata": {},
   "source": [
    "### Esto puede deberse a varias razones, como la naturaleza del dataset wine, que podría ser fácilmente separable con un clasificador como Random Forest, o que el conjunto de prueba sea relativamente pequeño y sencillo de clasificar. Probaremos otro clasificador: LogisticRegression"
   ]
  },
  {
   "cell_type": "code",
   "execution_count": 4,
   "id": "2ce936ea-b210-44e3-a79b-4e2f4ee784b8",
   "metadata": {
    "tags": []
   },
   "outputs": [
    {
     "name": "stdout",
     "output_type": "stream",
     "text": [
      "Recall (micro): 1.00\n",
      "Precision (micro): 1.00\n",
      "F1 Score (micro): 1.00\n",
      "Recall (macro): 1.00\n",
      "Precision (macro): 1.00\n",
      "F1 Score (macro): 1.00\n",
      "Recall (weighted): 1.00\n",
      "Precision (weighted): 1.00\n",
      "F1 Score (weighted): 1.00\n"
     ]
    }
   ],
   "source": [
    "model = LogisticRegression(max_iter=10000, random_state=42)\n",
    "model.fit(X_train, y_train)\n",
    "y_pred = model.predict(X_test)\n",
    "\n",
    "# Calcular métricas\n",
    "\n",
    "recall = recall_score(y_test, y_pred, average='micro')\n",
    "precision = precision_score(y_test, y_pred, average='micro')\n",
    "f1 = f1_score(y_test, y_pred, average='micro')\n",
    "\n",
    "print(f\"Recall (micro): {recall:.2f}\")\n",
    "print(f\"Precision (micro): {precision:.2f}\")\n",
    "print(f\"F1 Score (micro): {f1:.2f}\")\n",
    "\n",
    "recall = recall_score(y_test, y_pred, average='macro')\n",
    "precision = precision_score(y_test, y_pred, average='macro')\n",
    "f1 = f1_score(y_test, y_pred, average='macro')\n",
    "\n",
    "print(f\"Recall (macro): {recall:.2f}\")\n",
    "print(f\"Precision (macro): {precision:.2f}\")\n",
    "print(f\"F1 Score (macro): {f1:.2f}\")\n",
    "\n",
    "recall = recall_score(y_test, y_pred, average='weighted')\n",
    "precision = precision_score(y_test, y_pred, average='weighted')\n",
    "f1 = f1_score(y_test, y_pred, average='weighted')\n",
    "\n",
    "print(f\"Recall (weighted): {recall:.2f}\")\n",
    "print(f\"Precision (weighted): {precision:.2f}\")\n",
    "print(f\"F1 Score (weighted): {f1:.2f}\")"
   ]
  },
  {
   "cell_type": "markdown",
   "id": "b506a888-e834-4b14-8d46-643e8e1e8c7a",
   "metadata": {},
   "source": [
    "### Parece que los resultados con LogisticRegression también son perfectos. Esto podría deberse a la naturaleza del dataset y la separación clara entre las clases en el conjunto de datos wine. Vamos a probar con SVC (Support Vector Classifier)"
   ]
  },
  {
   "cell_type": "code",
   "execution_count": 5,
   "id": "5300f160-8d06-4e3f-9684-123aec110d84",
   "metadata": {
    "tags": []
   },
   "outputs": [
    {
     "name": "stdout",
     "output_type": "stream",
     "text": [
      "Recall (micro): 0.81\n",
      "Precision (micro): 0.81\n",
      "F1 Score (micro): 0.81\n",
      "Recall (macro): 0.76\n",
      "Precision (macro): 0.77\n",
      "F1 Score (macro): 0.76\n",
      "Recall (weighted): 0.81\n",
      "Precision (weighted): 0.80\n",
      "F1 Score (weighted): 0.80\n"
     ]
    }
   ],
   "source": [
    "model = SVC(random_state=42)\n",
    "model.fit(X_train, y_train)\n",
    "y_pred = model.predict(X_test)\n",
    "\n",
    "# Calcular métricas\n",
    "\n",
    "recall = recall_score(y_test, y_pred, average='micro')\n",
    "precision = precision_score(y_test, y_pred, average='micro')\n",
    "f1 = f1_score(y_test, y_pred, average='micro')\n",
    "\n",
    "print(f\"Recall (micro): {recall:.2f}\")\n",
    "print(f\"Precision (micro): {precision:.2f}\")\n",
    "print(f\"F1 Score (micro): {f1:.2f}\")\n",
    "\n",
    "recall = recall_score(y_test, y_pred, average='macro')\n",
    "precision = precision_score(y_test, y_pred, average='macro')\n",
    "f1 = f1_score(y_test, y_pred, average='macro')\n",
    "\n",
    "print(f\"Recall (macro): {recall:.2f}\")\n",
    "print(f\"Precision (macro): {precision:.2f}\")\n",
    "print(f\"F1 Score (macro): {f1:.2f}\")\n",
    "\n",
    "recall = recall_score(y_test, y_pred, average='weighted')\n",
    "precision = precision_score(y_test, y_pred, average='weighted')\n",
    "f1 = f1_score(y_test, y_pred, average='weighted')\n",
    "\n",
    "print(f\"Recall (weighted): {recall:.2f}\")\n",
    "print(f\"Precision (weighted): {precision:.2f}\")\n",
    "print(f\"F1 Score (weighted): {f1:.2f}\")"
   ]
  },
  {
   "cell_type": "markdown",
   "id": "142f75dd-bef9-475f-93e0-3ddaecb34a11",
   "metadata": {},
   "source": [
    "### Estos resultados son más realistas y muestran que el modelo no es perfecto en la clasificación. "
   ]
  },
  {
   "cell_type": "markdown",
   "id": "219ebd09-8adc-4bcc-b4d1-18035bcc315d",
   "metadata": {},
   "source": [
    "### Explicación de las Métricas de Evaluación y sus Resultados"
   ]
  },
  {
   "cell_type": "code",
   "execution_count": 7,
   "id": "735111f6-0924-46ea-a5b4-6a7c409256f7",
   "metadata": {
    "tags": []
   },
   "outputs": [
    {
     "data": {
      "text/latex": [
       "$\\displaystyle Precisión = \\frac{TP}{TP + FP}$"
      ],
      "text/plain": [
       "<IPython.core.display.Math object>"
      ]
     },
     "metadata": {},
     "output_type": "display_data"
    },
    {
     "data": {
      "text/latex": [
       "$\\displaystyle Recall = \\frac{TP}{TP + FN}$"
      ],
      "text/plain": [
       "<IPython.core.display.Math object>"
      ]
     },
     "metadata": {},
     "output_type": "display_data"
    },
    {
     "data": {
      "text/latex": [
       "$\\displaystyle F1-Score = 2 \\cdot \\frac{Precisión \\cdot Recall}{Precisión + Recall}$"
      ],
      "text/plain": [
       "<IPython.core.display.Math object>"
      ]
     },
     "metadata": {},
     "output_type": "display_data"
    },
    {
     "data": {
      "text/markdown": [
       "### Micro, Macro y Ponderado"
      ],
      "text/plain": [
       "<IPython.core.display.Markdown object>"
      ]
     },
     "metadata": {},
     "output_type": "display_data"
    },
    {
     "data": {
      "text/markdown": [
       "**Micro:** Se calculan los verdaderos positivos, falsos positivos y falsos negativos globalmente y se aplican las fórmulas como si fuera un solo problema de clasificación binaria."
      ],
      "text/plain": [
       "<IPython.core.display.Markdown object>"
      ]
     },
     "metadata": {},
     "output_type": "display_data"
    },
    {
     "data": {
      "text/latex": [
       "$\\displaystyle \\text{Precisión Micro} = \\frac{\\sum_i \\text{TP}_i}{\\sum_i (\\text{TP}_i + \\text{FP}_i)}$"
      ],
      "text/plain": [
       "<IPython.core.display.Math object>"
      ]
     },
     "metadata": {},
     "output_type": "display_data"
    },
    {
     "data": {
      "text/latex": [
       "$\\displaystyle \\text{Recall Micro} = \\frac{\\sum_i \\text{TP}_i}{\\sum_i (\\text{TP}_i + \\text{FN}_i)}$"
      ],
      "text/plain": [
       "<IPython.core.display.Math object>"
      ]
     },
     "metadata": {},
     "output_type": "display_data"
    },
    {
     "data": {
      "text/latex": [
       "$\\displaystyle \\text{F1-Score Micro} = 2 \\cdot \\frac{\\text{Precisión Micro} \\cdot \\text{Recall Micro}}{\\text{Precisión Micro} + \\text{Recall Micro}}$"
      ],
      "text/plain": [
       "<IPython.core.display.Math object>"
      ]
     },
     "metadata": {},
     "output_type": "display_data"
    },
    {
     "data": {
      "text/markdown": [
       "**Macro:** Se calculan las métricas para cada clase individualmente y luego se toma el promedio (sin ponderar por el tamaño de la clase)."
      ],
      "text/plain": [
       "<IPython.core.display.Markdown object>"
      ]
     },
     "metadata": {},
     "output_type": "display_data"
    },
    {
     "data": {
      "text/latex": [
       "$\\displaystyle \\text{Precisión Macro} = \\frac{1}{N} \\sum_i \\text{Precisión}_i$"
      ],
      "text/plain": [
       "<IPython.core.display.Math object>"
      ]
     },
     "metadata": {},
     "output_type": "display_data"
    },
    {
     "data": {
      "text/latex": [
       "$\\displaystyle \\text{Recall Macro} = \\frac{1}{N} \\sum_i \\text{Recall}_i$"
      ],
      "text/plain": [
       "<IPython.core.display.Math object>"
      ]
     },
     "metadata": {},
     "output_type": "display_data"
    },
    {
     "data": {
      "text/latex": [
       "$\\displaystyle \\text{F1-Score Macro} = \\frac{1}{N} \\sum_i \\text{F1-Score}_i$"
      ],
      "text/plain": [
       "<IPython.core.display.Math object>"
      ]
     },
     "metadata": {},
     "output_type": "display_data"
    },
    {
     "data": {
      "text/markdown": [
       "**Ponderado (Weighted):** Similar al macro, pero cada métrica se pondera por el número de instancias de cada clase."
      ],
      "text/plain": [
       "<IPython.core.display.Markdown object>"
      ]
     },
     "metadata": {},
     "output_type": "display_data"
    },
    {
     "data": {
      "text/latex": [
       "$\\displaystyle \\text{Precisión Ponderada} = \\sum_i \\frac{n_i}{N} \\cdot \\text{Precisión}_i$"
      ],
      "text/plain": [
       "<IPython.core.display.Math object>"
      ]
     },
     "metadata": {},
     "output_type": "display_data"
    },
    {
     "data": {
      "text/latex": [
       "$\\displaystyle \\text{Recall Ponderado} = \\sum_i \\frac{n_i}{N} \\cdot \\text{Recall}_i$"
      ],
      "text/plain": [
       "<IPython.core.display.Math object>"
      ]
     },
     "metadata": {},
     "output_type": "display_data"
    },
    {
     "data": {
      "text/latex": [
       "$\\displaystyle \\text{F1-Score Ponderado} = \\sum_i \\frac{n_i}{N} \\cdot \\text{F1-Score}_i$"
      ],
      "text/plain": [
       "<IPython.core.display.Math object>"
      ]
     },
     "metadata": {},
     "output_type": "display_data"
    }
   ],
   "source": [
    "# Definiciones básicas\n",
    "def definiciones_basicas():\n",
    "    from IPython.display import display, Math\n",
    "    display(Math(r'Precisión = \\frac{TP}{TP + FP}'))\n",
    "    display(Math(r'Recall = \\frac{TP}{TP + FN}'))\n",
    "    display(Math(r'F1-Score = 2 \\cdot \\frac{Precisión \\cdot Recall}{Precisión + Recall}'))\n",
    "\n",
    "definiciones_basicas()\n",
    "\n",
    "# Enfoques para clasificación multiclase\n",
    "def enfoques_multiclase():\n",
    "    from IPython.display import display, Math, Markdown\n",
    "    \n",
    "    display(Markdown(\"### Micro, Macro y Ponderado\"))\n",
    "    \n",
    "    display(Markdown(\"**Micro:** Se calculan los verdaderos positivos, falsos positivos y falsos negativos globalmente y se aplican las fórmulas como si fuera un solo problema de clasificación binaria.\"))\n",
    "    display(Math(r'\\text{Precisión Micro} = \\frac{\\sum_i \\text{TP}_i}{\\sum_i (\\text{TP}_i + \\text{FP}_i)}'))\n",
    "    display(Math(r'\\text{Recall Micro} = \\frac{\\sum_i \\text{TP}_i}{\\sum_i (\\text{TP}_i + \\text{FN}_i)}'))\n",
    "    display(Math(r'\\text{F1-Score Micro} = 2 \\cdot \\frac{\\text{Precisión Micro} \\cdot \\text{Recall Micro}}{\\text{Precisión Micro} + \\text{Recall Micro}}'))\n",
    "\n",
    "    display(Markdown(\"**Macro:** Se calculan las métricas para cada clase individualmente y luego se toma el promedio (sin ponderar por el tamaño de la clase).\"))\n",
    "    display(Math(r'\\text{Precisión Macro} = \\frac{1}{N} \\sum_i \\text{Precisión}_i'))\n",
    "    display(Math(r'\\text{Recall Macro} = \\frac{1}{N} \\sum_i \\text{Recall}_i'))\n",
    "    display(Math(r'\\text{F1-Score Macro} = \\frac{1}{N} \\sum_i \\text{F1-Score}_i'))\n",
    "\n",
    "    display(Markdown(\"**Ponderado (Weighted):** Similar al macro, pero cada métrica se pondera por el número de instancias de cada clase.\"))\n",
    "    display(Math(r'\\text{Precisión Ponderada} = \\sum_i \\frac{n_i}{N} \\cdot \\text{Precisión}_i'))\n",
    "    display(Math(r'\\text{Recall Ponderado} = \\sum_i \\frac{n_i}{N} \\cdot \\text{Recall}_i'))\n",
    "    display(Math(r'\\text{F1-Score Ponderado} = \\sum_i \\frac{n_i}{N} \\cdot \\text{F1-Score}_i'))\n",
    "\n",
    "enfoques_multiclase()"
   ]
  },
  {
   "cell_type": "markdown",
   "id": "90cbe23d-90c3-4597-9319-6ad03efa96d6",
   "metadata": {},
   "source": [
    "## Técnicas de Validación Cruzada\n",
    "\n",
    "La validación cruzada es una técnica para evaluar la generalización de los modelos estadísticos. Aquí veremos cómo implementar la validación cruzada de K-folds utilizando Scikit-learn."
   ]
  },
  {
   "cell_type": "code",
   "execution_count": 8,
   "id": "35b2695c-2bf3-4a8b-bacb-bf38dd01d488",
   "metadata": {
    "tags": []
   },
   "outputs": [],
   "source": [
    "from sklearn.model_selection import KFold, cross_val_score"
   ]
  },
  {
   "cell_type": "code",
   "execution_count": 9,
   "id": "c7709a5f-d77e-46fa-8795-efaefdf6d78b",
   "metadata": {
    "tags": []
   },
   "outputs": [
    {
     "name": "stdout",
     "output_type": "stream",
     "text": [
      "Resultados de CV: [0.93103448 0.96551724 0.92857143 1.         0.92857143]\n",
      "Promedio de CV: 0.95\n"
     ]
    }
   ],
   "source": [
    "# Implementación de K-Fold Cross Validation\n",
    "kf = KFold(n_splits=5, random_state=42, shuffle=True)\n",
    "model = LogisticRegression(max_iter=10000, random_state=42)\n",
    "cv_results = cross_val_score(model, X_train, y_train, cv=kf, scoring='accuracy')\n",
    "\n",
    "print(f\"Resultados de CV: {cv_results}\")\n",
    "print(f\"Promedio de CV: {cv_results.mean():.2f}\")"
   ]
  },
  {
   "cell_type": "markdown",
   "id": "1b6781c9-c887-43bc-8886-f8decf05cb16",
   "metadata": {
    "tags": []
   },
   "source": [
    "#### Desglose de los Resultados\n",
    "\n",
    "1. **Interpretación de los Resultados de CV**:\n",
    "   - Estos valores representan las puntuaciones de precisión obtenidas en cada uno de los pliegues (folds) de la validación cruzada.\n",
    "   - La validación cruzada se realiza dividiendo el conjunto de datos en K partes (folds), entrenando el modelo en K-1 partes y validándolo en la parte restante, repitiendo este proceso K veces.\n",
    "\n",
    "   Los resultados específicos para cada pliegue son:\n",
    "   - **Primera iteración**: 0.93103448\n",
    "   - **Segunda iteración**: 0.96551724\n",
    "   - **Tercera iteración**: 0.9285714\n",
    "   - **Cuarta iteración**: 1.\n",
    "   - **Quinta iteración**: 0.92857143\n",
    "\n",
    "2. **Promedio de CV**:\n",
    "   - El promedio de estas puntuaciones de precisión se calcula para obtener una medida general del rendimiento del modelo a lo largo de todas las particiones.\n",
    "   $$\n",
    "   \\text{Promedio de CV} = \\frac{0.93103448 + 0.96551724 + 0.9285714 + 1. + 0.92857143}{5} = 0.95\n",
    "   $$\n"
   ]
  },
  {
   "cell_type": "markdown",
   "id": "033f7a7a-0718-476a-b350-800c7dec49c1",
   "metadata": {
    "tags": []
   },
   "source": [
    "### Matriz de Confusión\n",
    "\n",
    "Una matriz de confusión proporciona una representación tabular del rendimiento de un algoritmo de clasificación, mostrando el número de instancias clasificadas correctamente e incorrectamente para cada clase. Vamos a interpretar la matriz de confusión proporcionada:"
   ]
  },
  {
   "cell_type": "code",
   "execution_count": 10,
   "id": "0e961144-a85b-4ff6-8f41-9526f3c01963",
   "metadata": {
    "tags": []
   },
   "outputs": [
    {
     "data": {
      "image/png": "[encoded data removed]",
      "text/plain": [
       "<Figure size 1000x700 with 2 Axes>"
      ]
     },
     "metadata": {},
     "output_type": "display_data"
    }
   ],
   "source": [
    "# Entrenar el modelo\n",
    "model = LogisticRegression(max_iter=10000, random_state=42)\n",
    "model.fit(X_train, y_train)\n",
    "\n",
    "# Realizar predicciones\n",
    "y_pred = model.predict(X_test)\n",
    "\n",
    "# Generar la matriz de confusión\n",
    "cm = confusion_matrix(y_test, y_pred)\n",
    "\n",
    "# Visualizar la matriz de confusión usando Matplotlib y Seaborn\n",
    "plt.figure(figsize=(10, 7))\n",
    "sns.heatmap(cm, annot=True, fmt='d', cmap='Blues', xticklabels=data.target_names, yticklabels=data.target_names)\n",
    "plt.xlabel('Predicted')\n",
    "plt.ylabel('Actual')\n",
    "plt.title('Confusion Matrix')\n",
    "plt.show()"
   ]
  },
  {
   "cell_type": "code",
   "execution_count": 11,
   "id": "1ed52dde-1f12-48b7-874c-e062dc7a1c7e",
   "metadata": {
    "tags": []
   },
   "outputs": [
    {
     "data": {
      "text/plain": [
       "array([[14,  0,  0],\n",
       "       [ 0, 14,  0],\n",
       "       [ 0,  0,  8]], dtype=int64)"
      ]
     },
     "execution_count": 11,
     "metadata": {},
     "output_type": "execute_result"
    }
   ],
   "source": [
    "cm"
   ]
  },
  {
   "cell_type": "code",
   "execution_count": null,
   "id": "cee05a1e-9362-4694-8263-916d892f9469",
   "metadata": {},
   "outputs": [],
   "source": []
  }
 ],
 "metadata": {
  "kernelspec": {
   "display_name": "Python 3 (ipykernel)",
   "language": "python",
   "name": "python3"
  },
  "language_info": {
   "codemirror_mode": {
    "name": "ipython",
    "version": 3
   },
   "file_extension": ".py",
   "mimetype": "text/x-python",
   "name": "python",
   "nbconvert_exporter": "python",
   "pygments_lexer": "ipython3",
   "version": "3.11.4"
  }
 },
 "nbformat": 4,
 "nbformat_minor": 5
}

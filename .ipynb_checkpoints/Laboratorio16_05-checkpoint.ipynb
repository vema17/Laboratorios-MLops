{
 "cells": [
  {
   "cell_type": "markdown",
   "id": "5323015e",
   "metadata": {},
   "source": [
    "`GridSearchCV` es una herramienta poderosa proporcionada por la biblioteca Scikit-learn en Python, diseñada para automatizar el proceso de ajuste de hiperparámetros de un modelo. Esta herramienta permite a los usuarios especificar un conjunto de valores potenciales para los distintos hiperparámetros de un modelo y evaluar todas las combinaciones posibles para encontrar la configuración que produce los mejores resultados de acuerdo con una métrica de evaluación especificada.\n",
    "\n",
    "### Funcionamiento de GridSearchCV\n",
    "\n",
    "**1. Definición de la cuadrícula de parámetros:**\n",
    "   - Se define un \"grid\" de hiperparámetros, que es básicamente un diccionario donde las claves son los nombres de los hiperparámetros y los valores son las listas de valores que se desean explorar para cada hiperparámetro.\n",
    "\n",
    "**2. Configuración del modelo:**\n",
    "   - Se selecciona el modelo de machine learning que se desea ajustar.\n",
    "\n",
    "**3. Evaluación cruzada:**\n",
    "   - `GridSearchCV` implementa una técnica de validación cruzada para evaluar cada combinación de hiperparámetros. Esto significa que para cada conjunto de hiperparámetros, el modelo se entrena varias veces en diferentes subconjuntos del conjunto de datos de entrenamiento.\n",
    "\n",
    "**4. Selección del mejor modelo:**\n",
    "   - Después de probar todas las combinaciones posibles, `GridSearchCV` selecciona la combinación de hiperparámetros que resulta en el mejor rendimiento del modelo según una métrica específica (como precisión, recall, F1-score, etc.).\n",
    "\n",
    "### Beneficios de usar GridSearchCV\n",
    "\n",
    "- **Automatización y simplificación**: Automatiza un proceso que de otra manera sería tedioso y propenso a errores, simplificando la búsqueda de la mejor configuración de hiperparámetros.\n",
    "- **Robustez**: Al utilizar la validación cruzada, GridSearchCV asegura que el rendimiento del modelo es evaluado de manera más robusta y menos susceptible a las fluctuaciones del conjunto de datos de entrenamiento.\n",
    "- **Mejor rendimiento**: Al explorar sistemáticamente múltiples combinaciones, se incrementa la probabilidad de encontrar una configuración de hiperparámetros que resulte en un mejor rendimiento del modelo.\n",
    "\n",
    "### Ejemplo de uso de GridSearchCV\n",
    "\n",
    "\n",
    "\n"
   ]
  },
  {
   "cell_type": "code",
   "execution_count": 1,
   "id": "aae9574f",
   "metadata": {},
   "outputs": [
    {
     "name": "stdout",
     "output_type": "stream",
     "text": [
      "Mejores parámetros: {'max_depth': 30, 'n_estimators': 100}\n",
      "Mejor puntuación: 0.9061795343137256\n"
     ]
    }
   ],
   "source": [
    "# Paso 1: Importar las bibliotecas necesarias\n",
    "import pandas as pd\n",
    "from sklearn.model_selection import train_test_split, GridSearchCV\n",
    "from sklearn.ensemble import RandomForestClassifier\n",
    "from sklearn.preprocessing import StandardScaler\n",
    "\n",
    "# Paso 2: Cargar los datos\n",
    "url = \"https://archive.ics.uci.edu/ml/machine-learning-databases/wine-quality/winequality-red.csv\"\n",
    "data = pd.read_csv(url, sep=';')\n",
    "\n",
    "# Paso 3: Preparar los datos\n",
    "X = data.drop('quality', axis=1)  # características\n",
    "y = data['quality'] > 6  # objetivo, convertido en problema binario\n",
    "\n",
    "# Paso 4: Dividir los datos en entrenamiento y prueba\n",
    "X_train, X_test, y_train, y_test = train_test_split(X, y, test_size=0.2, random_state=42)\n",
    "\n",
    "# Paso 5: Escalar las características (opcional, dependiendo del modelo)\n",
    "scaler = StandardScaler()\n",
    "X_train_scaled = scaler.fit_transform(X_train)\n",
    "X_test_scaled = scaler.transform(X_test)\n",
    "\n",
    "# Paso 6: Configurar GridSearchCV\n",
    "param_grid = {'n_estimators': [50, 100, 200], 'max_depth': [10, 20, 30]}\n",
    "grid_search = GridSearchCV(RandomForestClassifier(), param_grid, cv=5)\n",
    "\n",
    "# Paso 7: Entrenar con GridSearchCV\n",
    "grid_search.fit(X_train_scaled, y_train)  # Asegúrate de usar X_train_scaled si aplicaste escalado\n",
    "\n",
    "# Paso 8: Imprimir los mejores parámetros y la mejor puntuación\n",
    "print(\"Mejores parámetros:\", grid_search.best_params_)\n",
    "print(\"Mejor puntuación:\", grid_search.best_score_)"
   ]
  },
  {
   "cell_type": "markdown",
   "id": "70def031",
   "metadata": {},
   "source": [
    "### Lo mismo para: \n",
    "\n",
    "# from sklearn.ensemble import RandomForestClassifier, AdaBoostClassifier\n"
   ]
  },
  {
   "cell_type": "code",
   "execution_count": 5,
   "id": "cc41a64f",
   "metadata": {
    "tags": []
   },
   "outputs": [],
   "source": [
    "from sklearn.ensemble import AdaBoostClassifier\n",
    "from sklearn.metrics import accuracy_score"
   ]
  },
  {
   "cell_type": "code",
   "execution_count": 6,
   "id": "b0cb6380-1035-486c-a367-3ddedc04f2e3",
   "metadata": {
    "tags": []
   },
   "outputs": [
    {
     "data": {
      "text/html": [
       "<style>#sk-container-id-2 {color: black;}#sk-container-id-2 pre{padding: 0;}#sk-container-id-2 div.sk-toggleable {background-color: white;}#sk-container-id-2 label.sk-toggleable__label {cursor: pointer;display: block;width: 100%;margin-bottom: 0;padding: 0.3em;box-sizing: border-box;text-align: center;}#sk-container-id-2 label.sk-toggleable__label-arrow:before {content: \"▸\";float: left;margin-right: 0.25em;color: #696969;}#sk-container-id-2 label.sk-toggleable__label-arrow:hover:before {color: black;}#sk-container-id-2 div.sk-estimator:hover label.sk-toggleable__label-arrow:before {color: black;}#sk-container-id-2 div.sk-toggleable__content {max-height: 0;max-width: 0;overflow: hidden;text-align: left;background-color: #f0f8ff;}#sk-container-id-2 div.sk-toggleable__content pre {margin: 0.2em;color: black;border-radius: 0.25em;background-color: #f0f8ff;}#sk-container-id-2 input.sk-toggleable__control:checked~div.sk-toggleable__content {max-height: 200px;max-width: 100%;overflow: auto;}#sk-container-id-2 input.sk-toggleable__control:checked~label.sk-toggleable__label-arrow:before {content: \"▾\";}#sk-container-id-2 div.sk-estimator input.sk-toggleable__control:checked~label.sk-toggleable__label {background-color: #d4ebff;}#sk-container-id-2 div.sk-label input.sk-toggleable__control:checked~label.sk-toggleable__label {background-color: #d4ebff;}#sk-container-id-2 input.sk-hidden--visually {border: 0;clip: rect(1px 1px 1px 1px);clip: rect(1px, 1px, 1px, 1px);height: 1px;margin: -1px;overflow: hidden;padding: 0;position: absolute;width: 1px;}#sk-container-id-2 div.sk-estimator {font-family: monospace;background-color: #f0f8ff;border: 1px dotted black;border-radius: 0.25em;box-sizing: border-box;margin-bottom: 0.5em;}#sk-container-id-2 div.sk-estimator:hover {background-color: #d4ebff;}#sk-container-id-2 div.sk-parallel-item::after {content: \"\";width: 100%;border-bottom: 1px solid gray;flex-grow: 1;}#sk-container-id-2 div.sk-label:hover label.sk-toggleable__label {background-color: #d4ebff;}#sk-container-id-2 div.sk-serial::before {content: \"\";position: absolute;border-left: 1px solid gray;box-sizing: border-box;top: 0;bottom: 0;left: 50%;z-index: 0;}#sk-container-id-2 div.sk-serial {display: flex;flex-direction: column;align-items: center;background-color: white;padding-right: 0.2em;padding-left: 0.2em;position: relative;}#sk-container-id-2 div.sk-item {position: relative;z-index: 1;}#sk-container-id-2 div.sk-parallel {display: flex;align-items: stretch;justify-content: center;background-color: white;position: relative;}#sk-container-id-2 div.sk-item::before, #sk-container-id-2 div.sk-parallel-item::before {content: \"\";position: absolute;border-left: 1px solid gray;box-sizing: border-box;top: 0;bottom: 0;left: 50%;z-index: -1;}#sk-container-id-2 div.sk-parallel-item {display: flex;flex-direction: column;z-index: 1;position: relative;background-color: white;}#sk-container-id-2 div.sk-parallel-item:first-child::after {align-self: flex-end;width: 50%;}#sk-container-id-2 div.sk-parallel-item:last-child::after {align-self: flex-start;width: 50%;}#sk-container-id-2 div.sk-parallel-item:only-child::after {width: 0;}#sk-container-id-2 div.sk-dashed-wrapped {border: 1px dashed gray;margin: 0 0.4em 0.5em 0.4em;box-sizing: border-box;padding-bottom: 0.4em;background-color: white;}#sk-container-id-2 div.sk-label label {font-family: monospace;font-weight: bold;display: inline-block;line-height: 1.2em;}#sk-container-id-2 div.sk-label-container {text-align: center;}#sk-container-id-2 div.sk-container {/* jupyter's `normalize.less` sets `[hidden] { display: none; }` but bootstrap.min.css set `[hidden] { display: none !important; }` so we also need the `!important` here to be able to override the default hidden behavior on the sphinx rendered scikit-learn.org. See: https://github.com/scikit-learn/scikit-learn/issues/21755 */display: inline-block !important;position: relative;}#sk-container-id-2 div.sk-text-repr-fallback {display: none;}</style><div id=\"sk-container-id-2\" class=\"sk-top-container\"><div class=\"sk-text-repr-fallback\"><pre>AdaBoostClassifier(n_estimators=100, random_state=42)</pre><b>In a Jupyter environment, please rerun this cell to show the HTML representation or trust the notebook. <br />On GitHub, the HTML representation is unable to render, please try loading this page with nbviewer.org.</b></div><div class=\"sk-container\" hidden><div class=\"sk-item\"><div class=\"sk-estimator sk-toggleable\"><input class=\"sk-toggleable__control sk-hidden--visually\" id=\"sk-estimator-id-2\" type=\"checkbox\" checked><label for=\"sk-estimator-id-2\" class=\"sk-toggleable__label sk-toggleable__label-arrow\">AdaBoostClassifier</label><div class=\"sk-toggleable__content\"><pre>AdaBoostClassifier(n_estimators=100, random_state=42)</pre></div></div></div></div></div>"
      ],
      "text/plain": [
       "AdaBoostClassifier(n_estimators=100, random_state=42)"
      ]
     },
     "execution_count": 6,
     "metadata": {},
     "output_type": "execute_result"
    }
   ],
   "source": [
    "adaboost = AdaBoostClassifier(n_estimators=100, random_state=42)\n",
    "adaboost.fit(X_train_scaled, y_train)"
   ]
  },
  {
   "cell_type": "code",
   "execution_count": 7,
   "id": "0308e376",
   "metadata": {
    "tags": []
   },
   "outputs": [
    {
     "name": "stdout",
     "output_type": "stream",
     "text": [
      "Accuracy de AdaBoost: 0.85\n"
     ]
    }
   ],
   "source": [
    "ada_predictions = adaboost.predict(X_test_scaled)\n",
    "ada_accuracy = accuracy_score(y_test, ada_predictions)\n",
    "print(f\"Accuracy de AdaBoost: {ada_accuracy:.2f}\")"
   ]
  },
  {
   "cell_type": "code",
   "execution_count": 12,
   "id": "3e05ce73-2075-4079-a92e-af970709b0ea",
   "metadata": {
    "tags": []
   },
   "outputs": [
    {
     "name": "stdout",
     "output_type": "stream",
     "text": [
      "Mejores parámetros: {'learning_rate': 0.5, 'n_estimators': 50}\n",
      "Mejor puntuación: 0.8897610294117648\n"
     ]
    }
   ],
   "source": [
    "param_grid = {'n_estimators': [50, 100, 200], 'learning_rate': [0.1, 0.5, 1.0]}\n",
    "grid_search = GridSearchCV(AdaBoostClassifier(), param_grid, cv=5)\n",
    "\n",
    "# Paso 7: Entrenar con GridSearchCV\n",
    "grid_search.fit(X_train_scaled, y_train)  # Asegúrate de usar X_train_scaled si aplicaste escalado\n",
    "\n",
    "# Paso 8: Imprimir los mejores parámetros y la mejor puntuación\n",
    "print(\"Mejores parámetros:\", grid_search.best_params_)\n",
    "print(\"Mejor puntuación:\", grid_search.best_score_)"
   ]
  },
  {
   "cell_type": "code",
   "execution_count": null,
   "id": "c82faee3-7704-4f43-aa79-f3b402271f3d",
   "metadata": {},
   "outputs": [],
   "source": []
  }
 ],
 "metadata": {
  "kernelspec": {
   "display_name": "Python 3 (ipykernel)",
   "language": "python",
   "name": "python3"
  },
  "language_info": {
   "codemirror_mode": {
    "name": "ipython",
    "version": 3
   },
   "file_extension": ".py",
   "mimetype": "text/x-python",
   "name": "python",
   "nbconvert_exporter": "python",
   "pygments_lexer": "ipython3",
   "version": "3.11.4"
  }
 },
 "nbformat": 4,
 "nbformat_minor": 5
}

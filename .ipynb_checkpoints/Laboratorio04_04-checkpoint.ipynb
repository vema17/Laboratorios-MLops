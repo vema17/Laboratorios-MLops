{
 "cells": [
  {
   "cell_type": "markdown",
   "id": "13d12aa1",
   "metadata": {},
   "source": [
    "\n",
    "# Laboratorio de MLOps -  Ciclo de Vida del Flujo de Trabajo de ML\n",
    "## Vicente Muñoz Altamirano\n",
    "\n",
    "### Objetivo General del Laboratorio\n",
    "Proporcionar experiencia práctica en la aplicación del ciclo de vida del flujo de trabajo de ML, desde la exploración y preprocesamiento de datos hasta la evaluación y mejora de modelos.\n",
    "\n",
    "### Objetivos Específicos\n",
    "1. **Exploración de Datos:** Identificar características y patrones relevantes en los datos.\n",
    "2. **Preprocesamiento de Datos:** Optimizar los datos para el modelado.\n",
    "3. **Modelado de ML:** Aplicar y evaluar un modelo de regresión lineal, comprendiendo los fundamentos del modelado.\n",
    "4. **Comparación de Modelos:** Experimentar con Random Forest para aprender sobre la selección y comparación de modelos.\n",
    "5. **Iteración del Modelo:** Desarrollar habilidades en la mejora continua de los modelos de ML.\n",
    "\n",
    "## Modelo utilizado: Árboles de decision\n",
    "### Pasos que realiza el modelo:\n",
    "1. **División del conjunto de datos:** Selecciona la característica que mejor divide los datos en subconjuntos, maximizando la pureza o reduciendo la incertidumbre en cada división.\n",
    "\n",
    "2. **Recursividad:** Repite el proceso de selección y división en cada subconjunto creado, siguiendo criterios de impureza, hasta alcanzar un criterio de parada.\n",
    "\n",
    "3. **Criterio de parada:** Detiene el proceso de división cuando se cumple un criterio predefinido, como una profundidad máxima del árbol o un número mínimo de muestras por nodo.\n",
    "\n",
    "4. **Predicción:** Para predecir una nueva instancia, desciende por el árbol siguiendo las condiciones en cada nodo hasta llegar a una hoja, donde se asigna la etiqueta de clase (en clasificación) o el valor de regresión (en regresión).\n"
   ]
  },
  {
   "cell_type": "markdown",
   "id": "32fb1873",
   "metadata": {},
   "source": [
    "___\n",
    "## 1. Exploración de Datos"
   ]
  },
  {
   "cell_type": "code",
   "execution_count": 1,
   "id": "50477566",
   "metadata": {
    "scrolled": true
   },
   "outputs": [
    {
     "name": "stdout",
     "output_type": "stream",
     "text": [
      "      crim    zn  indus  chas    nox     rm   age     dis  rad  tax  ptratio  \\\n",
      "0  0.00632  18.0   2.31     0  0.538  6.575  65.2  4.0900    1  296     15.3   \n",
      "1  0.02731   0.0   7.07     0  0.469  6.421  78.9  4.9671    2  242     17.8   \n",
      "2  0.02729   0.0   7.07     0  0.469  7.185  61.1  4.9671    2  242     17.8   \n",
      "3  0.03237   0.0   2.18     0  0.458  6.998  45.8  6.0622    3  222     18.7   \n",
      "4  0.06905   0.0   2.18     0  0.458  7.147  54.2  6.0622    3  222     18.7   \n",
      "\n",
      "        b  lstat  medv  \n",
      "0  396.90   4.98  24.0  \n",
      "1  396.90   9.14  21.6  \n",
      "2  392.83   4.03  34.7  \n",
      "3  394.63   2.94  33.4  \n",
      "4  396.90   5.33  36.2  \n"
     ]
    }
   ],
   "source": [
    "import pandas as pd\n",
    "data = pd.read_csv('https://raw.githubusercontent.com/selva86/datasets/master/BostonHousing.csv')\n",
    "print(data.head())\n"
   ]
  },
  {
   "cell_type": "markdown",
   "id": "aff7b05b",
   "metadata": {},
   "source": [
    "## 2. Preprocesamiento de Datos"
   ]
  },
  {
   "cell_type": "code",
   "execution_count": 2,
   "id": "aac2b4e5",
   "metadata": {},
   "outputs": [],
   "source": [
    "from sklearn.model_selection import train_test_split\n",
    "from sklearn.preprocessing import StandardScaler"
   ]
  },
  {
   "cell_type": "code",
   "execution_count": 3,
   "id": "ce0d5781",
   "metadata": {},
   "outputs": [],
   "source": [
    "# Selección de características y variable objetivo\n",
    "X = data.drop('medv', axis=1)\n",
    "y = data['medv']\n",
    "\n",
    "# División en conjuntos de entrenamiento y prueba\n",
    "X_train, X_test, y_train, y_test = train_test_split(X, y, test_size=0.2, random_state=42)\n",
    "\n",
    "# Normalización\n",
    "scaler = StandardScaler()\n",
    "X_train_scaled = scaler.fit_transform(X_train)\n",
    "X_test_scaled = scaler.transform(X_test)"
   ]
  },
  {
   "cell_type": "markdown",
   "id": "1547bf12",
   "metadata": {},
   "source": [
    "## 3. Modelado Básico "
   ]
  },
  {
   "cell_type": "code",
   "execution_count": 12,
   "id": "3cfd42aa",
   "metadata": {},
   "outputs": [
    {
     "data": {
      "text/html": [
       "<style>#sk-container-id-2 {color: black;}#sk-container-id-2 pre{padding: 0;}#sk-container-id-2 div.sk-toggleable {background-color: white;}#sk-container-id-2 label.sk-toggleable__label {cursor: pointer;display: block;width: 100%;margin-bottom: 0;padding: 0.3em;box-sizing: border-box;text-align: center;}#sk-container-id-2 label.sk-toggleable__label-arrow:before {content: \"▸\";float: left;margin-right: 0.25em;color: #696969;}#sk-container-id-2 label.sk-toggleable__label-arrow:hover:before {color: black;}#sk-container-id-2 div.sk-estimator:hover label.sk-toggleable__label-arrow:before {color: black;}#sk-container-id-2 div.sk-toggleable__content {max-height: 0;max-width: 0;overflow: hidden;text-align: left;background-color: #f0f8ff;}#sk-container-id-2 div.sk-toggleable__content pre {margin: 0.2em;color: black;border-radius: 0.25em;background-color: #f0f8ff;}#sk-container-id-2 input.sk-toggleable__control:checked~div.sk-toggleable__content {max-height: 200px;max-width: 100%;overflow: auto;}#sk-container-id-2 input.sk-toggleable__control:checked~label.sk-toggleable__label-arrow:before {content: \"▾\";}#sk-container-id-2 div.sk-estimator input.sk-toggleable__control:checked~label.sk-toggleable__label {background-color: #d4ebff;}#sk-container-id-2 div.sk-label input.sk-toggleable__control:checked~label.sk-toggleable__label {background-color: #d4ebff;}#sk-container-id-2 input.sk-hidden--visually {border: 0;clip: rect(1px 1px 1px 1px);clip: rect(1px, 1px, 1px, 1px);height: 1px;margin: -1px;overflow: hidden;padding: 0;position: absolute;width: 1px;}#sk-container-id-2 div.sk-estimator {font-family: monospace;background-color: #f0f8ff;border: 1px dotted black;border-radius: 0.25em;box-sizing: border-box;margin-bottom: 0.5em;}#sk-container-id-2 div.sk-estimator:hover {background-color: #d4ebff;}#sk-container-id-2 div.sk-parallel-item::after {content: \"\";width: 100%;border-bottom: 1px solid gray;flex-grow: 1;}#sk-container-id-2 div.sk-label:hover label.sk-toggleable__label {background-color: #d4ebff;}#sk-container-id-2 div.sk-serial::before {content: \"\";position: absolute;border-left: 1px solid gray;box-sizing: border-box;top: 0;bottom: 0;left: 50%;z-index: 0;}#sk-container-id-2 div.sk-serial {display: flex;flex-direction: column;align-items: center;background-color: white;padding-right: 0.2em;padding-left: 0.2em;position: relative;}#sk-container-id-2 div.sk-item {position: relative;z-index: 1;}#sk-container-id-2 div.sk-parallel {display: flex;align-items: stretch;justify-content: center;background-color: white;position: relative;}#sk-container-id-2 div.sk-item::before, #sk-container-id-2 div.sk-parallel-item::before {content: \"\";position: absolute;border-left: 1px solid gray;box-sizing: border-box;top: 0;bottom: 0;left: 50%;z-index: -1;}#sk-container-id-2 div.sk-parallel-item {display: flex;flex-direction: column;z-index: 1;position: relative;background-color: white;}#sk-container-id-2 div.sk-parallel-item:first-child::after {align-self: flex-end;width: 50%;}#sk-container-id-2 div.sk-parallel-item:last-child::after {align-self: flex-start;width: 50%;}#sk-container-id-2 div.sk-parallel-item:only-child::after {width: 0;}#sk-container-id-2 div.sk-dashed-wrapped {border: 1px dashed gray;margin: 0 0.4em 0.5em 0.4em;box-sizing: border-box;padding-bottom: 0.4em;background-color: white;}#sk-container-id-2 div.sk-label label {font-family: monospace;font-weight: bold;display: inline-block;line-height: 1.2em;}#sk-container-id-2 div.sk-label-container {text-align: center;}#sk-container-id-2 div.sk-container {/* jupyter's `normalize.less` sets `[hidden] { display: none; }` but bootstrap.min.css set `[hidden] { display: none !important; }` so we also need the `!important` here to be able to override the default hidden behavior on the sphinx rendered scikit-learn.org. See: https://github.com/scikit-learn/scikit-learn/issues/21755 */display: inline-block !important;position: relative;}#sk-container-id-2 div.sk-text-repr-fallback {display: none;}</style><div id=\"sk-container-id-2\" class=\"sk-top-container\"><div class=\"sk-text-repr-fallback\"><pre>LinearRegression()</pre><b>In a Jupyter environment, please rerun this cell to show the HTML representation or trust the notebook. <br />On GitHub, the HTML representation is unable to render, please try loading this page with nbviewer.org.</b></div><div class=\"sk-container\" hidden><div class=\"sk-item\"><div class=\"sk-estimator sk-toggleable\"><input class=\"sk-toggleable__control sk-hidden--visually\" id=\"sk-estimator-id-2\" type=\"checkbox\" checked><label for=\"sk-estimator-id-2\" class=\"sk-toggleable__label sk-toggleable__label-arrow\">LinearRegression</label><div class=\"sk-toggleable__content\"><pre>LinearRegression()</pre></div></div></div></div></div>"
      ],
      "text/plain": [
       "LinearRegression()"
      ]
     },
     "execution_count": 12,
     "metadata": {},
     "output_type": "execute_result"
    }
   ],
   "source": [
    "from sklearn.linear_model import LinearRegression\n",
    "\n",
    "model = LinearRegression()\n",
    "model.fit(X_train_scaled, y_train)"
   ]
  },
  {
   "cell_type": "markdown",
   "id": "f00f196c",
   "metadata": {},
   "source": [
    "## 4. Evaluación del modelo"
   ]
  },
  {
   "cell_type": "markdown",
   "id": "20d3ce6c",
   "metadata": {},
   "source": [
    "En la evaluación de modelos, usamos el conjunto de prueba para medir la capacidad del modelo de hacer predicciones precisas en datos no vistos, lo que indica su capacidad de generalización. Se emplea el Error Cuadrático Medio (MSE) como métrica porque cuantifica la diferencia entre los valores predichos y los reales, proporcionando una medida clara del rendimiento del modelo en términos de error promedio."
   ]
  },
  {
   "cell_type": "code",
   "execution_count": 7,
   "id": "01a7f855",
   "metadata": {},
   "outputs": [],
   "source": [
    "from sklearn.metrics import mean_squared_error"
   ]
  },
  {
   "cell_type": "code",
   "execution_count": 13,
   "id": "af4c1dda",
   "metadata": {},
   "outputs": [
    {
     "name": "stdout",
     "output_type": "stream",
     "text": [
      "MSE: 24.291119474973495\n"
     ]
    }
   ],
   "source": [
    "y_pred = model.predict(X_test_scaled)\n",
    "mse = mean_squared_error(y_test, y_pred)\n",
    "print(f'MSE: {mse}')"
   ]
  },
  {
   "cell_type": "markdown",
   "id": "c7209351",
   "metadata": {},
   "source": [
    "Un MSE de 24.291 indica que el modelo de regresión, en promedio, se equivoca en aproximadamente 24.29 unidades en el valor predicho respecto al valor real."
   ]
  },
  {
   "cell_type": "code",
   "execution_count": 14,
   "id": "b611dd67",
   "metadata": {
    "scrolled": true
   },
   "outputs": [
    {
     "name": "stdout",
     "output_type": "stream",
     "text": [
      "MSE: 24.291119474973495\n",
      "Varianza de la variable objetivo: 84.5867235940986\n",
      "Rango de la variable objetivo: 45.0\n",
      "Relación MSE/Varianza: 0.28717413847990947\n",
      "Relación MSE/Rango: 0.539802654999411\n"
     ]
    }
   ],
   "source": [
    "# Calculando la varianza y el rango de la variable objetivo\n",
    "variance = y.var()\n",
    "data_range = y.max() - y.min()\n",
    "\n",
    "print(f'MSE: {mse}')\n",
    "print(f'Varianza de la variable objetivo: {variance}')\n",
    "print(f'Rango de la variable objetivo: {data_range}')\n",
    "\n",
    "# Comparando el MSE con la varianza y el rango\n",
    "print(f'Relación MSE/Varianza: {mse/variance}')\n",
    "print(f'Relación MSE/Rango: {mse/data_range}')\n"
   ]
  },
  {
   "cell_type": "markdown",
   "id": "ea5cb69e",
   "metadata": {},
   "source": [
    "## 5. Iteracion del modelo usando Árboles de decision"
   ]
  },
  {
   "cell_type": "code",
   "execution_count": 16,
   "id": "4037f35f",
   "metadata": {},
   "outputs": [
    {
     "name": "stdout",
     "output_type": "stream",
     "text": [
      "MSE: 10.561764705882355\n"
     ]
    }
   ],
   "source": [
    "from sklearn.tree import DecisionTreeRegressor\n",
    "model = DecisionTreeRegressor()\n",
    "model.fit(X_train_scaled, y_train)\n",
    "pred = model.predict(X_test_scaled)\n",
    "mse = mean_squared_error(y_test, pred)\n",
    "print(f'MSE: {mse}')"
   ]
  },
  {
   "cell_type": "markdown",
   "id": "aa85415c",
   "metadata": {},
   "source": [
    "El resultado de `10.56` para el MSE del modelo Decision Tree indica una mejora significativa en comparación con el MSE de la regresión lineal, que fue de `24.29`. Esto sugiere que Decision Tree está capturando mejor la complejidad de los datos y haciendo predicciones más precisas."
   ]
  },
  {
   "cell_type": "code",
   "execution_count": null,
   "id": "775d0f6d",
   "metadata": {},
   "outputs": [],
   "source": []
  }
 ],
 "metadata": {
  "kernelspec": {
   "display_name": "Python 3 (ipykernel)",
   "language": "python",
   "name": "python3"
  },
  "language_info": {
   "codemirror_mode": {
    "name": "ipython",
    "version": 3
   },
   "file_extension": ".py",
   "mimetype": "text/x-python",
   "name": "python",
   "nbconvert_exporter": "python",
   "pygments_lexer": "ipython3",
   "version": "3.11.4"
  }
 },
 "nbformat": 4,
 "nbformat_minor": 5
}
